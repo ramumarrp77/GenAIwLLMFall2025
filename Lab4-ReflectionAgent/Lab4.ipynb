{
 "cells": [
  {
   "cell_type": "code",
   "execution_count": 1,
   "metadata": {},
   "outputs": [],
   "source": [
    "from langgraph.graph import StateGraph, START, END\n",
    "from typing import TypedDict"
   ]
  },
  {
   "cell_type": "code",
   "execution_count": 2,
   "metadata": {},
   "outputs": [],
   "source": [
    "class SimpleState(TypedDict):\n",
    "    \"\"\"State that flows through our graph\"\"\"\n",
    "    input_text: str\n",
    "    processed_text: str\n",
    "    word_count: int\n",
    "    status: str"
   ]
  },
  {
   "cell_type": "code",
   "execution_count": 3,
   "metadata": {},
   "outputs": [],
   "source": [
    "def process_node(state):\n",
    "    \"\"\"Node 1: Process the input text\"\"\"\n",
    "    text = state['input_text']\n",
    "    processed = text.upper()\n",
    "    \n",
    "    state['processed_text'] = processed\n",
    "    state['status'] = 'processed'\n",
    "    \n",
    "    return state\n",
    "\n",
    "\n",
    "def count_node(state):\n",
    "    \"\"\"Node 2: Count words in processed text\"\"\"\n",
    "    words = state['processed_text'].split()\n",
    "    \n",
    "    state['word_count'] = len(words)\n",
    "    state['status'] = 'counted'\n",
    "    \n",
    "    return state"
   ]
  },
  {
   "cell_type": "code",
   "execution_count": 4,
   "metadata": {},
   "outputs": [
    {
     "name": "stdout",
     "output_type": "stream",
     "text": [
      "✓ Graph built and compiled\n"
     ]
    }
   ],
   "source": [
    "# Create the graph\n",
    "workflow = StateGraph(SimpleState)\n",
    "\n",
    "# Add nodes\n",
    "workflow.add_node(\"process\", process_node)\n",
    "workflow.add_node(\"count\", count_node)\n",
    "\n",
    "# Add edges to connect nodes\n",
    "workflow.add_edge(START, \"process\")  # Start -> process\n",
    "workflow.add_edge(\"process\", \"count\")  # process -> count\n",
    "workflow.add_edge(\"count\", END)  # count -> End\n",
    "\n",
    "# Compile the graph\n",
    "app = workflow.compile()\n",
    "\n",
    "print(\"✓ Graph built and compiled\")"
   ]
  },
  {
   "cell_type": "code",
   "execution_count": 6,
   "metadata": {},
   "outputs": [
    {
     "name": "stdout",
     "output_type": "stream",
     "text": [
      "%%{init: {'flowchart': {'curve': 'linear'}}}%%\n",
      "graph TD;\n",
      "\t__start__([<p>__start__</p>]):::first\n",
      "\tprocess(process)\n",
      "\tcount(count)\n",
      "\t__end__([<p>__end__</p>]):::last\n",
      "\t__start__ --> process;\n",
      "\tcount --> __end__;\n",
      "\tprocess --> count;\n",
      "\tclassDef default fill:#f2f0ff,line-height:1.2\n",
      "\tclassDef first fill-opacity:0\n",
      "\tclassDef last fill:#bfb6fc\n",
      "\n"
     ]
    }
   ],
   "source": [
    "# Get mermaid syntax\n",
    "print(app.get_graph().draw_mermaid())"
   ]
  },
  {
   "cell_type": "code",
   "execution_count": 7,
   "metadata": {},
   "outputs": [
    {
     "data": {
      "image/png": "[encoded data removed]",
      "text/plain": [
       "<IPython.core.display.Image object>"
      ]
     },
     "metadata": {},
     "output_type": "display_data"
    }
   ],
   "source": [
    "from IPython.display import Image, display\n",
    "\n",
    "# Generate and display PNG\n",
    "display(Image(app.get_graph().draw_mermaid_png()))"
   ]
  },
  {
   "cell_type": "code",
   "execution_count": 5,
   "metadata": {},
   "outputs": [
    {
     "name": "stdout",
     "output_type": "stream",
     "text": [
      "Input: hello world from langgraph\n",
      "Processed: HELLO WORLD FROM LANGGRAPH\n",
      "Word Count: 4\n",
      "Status: counted\n"
     ]
    }
   ],
   "source": [
    "# Initialize state\n",
    "initial_state = {\n",
    "    'input_text': 'hello world from langgraph',\n",
    "    'processed_text': '',\n",
    "    'word_count': 0,\n",
    "    'status': 'initial'\n",
    "}\n",
    "\n",
    "# Run the graph\n",
    "final_state = app.invoke(initial_state)\n",
    "\n",
    "# Display results\n",
    "print(f\"Input: {final_state['input_text']}\")\n",
    "print(f\"Processed: {final_state['processed_text']}\")\n",
    "print(f\"Word Count: {final_state['word_count']}\")\n",
    "print(f\"Status: {final_state['status']}\")"
   ]
  },
  {
   "cell_type": "code",
   "execution_count": null,
   "metadata": {},
   "outputs": [],
   "source": []
  },
  {
   "cell_type": "code",
   "execution_count": null,
   "metadata": {},
   "outputs": [],
   "source": []
  },
  {
   "cell_type": "code",
   "execution_count": null,
   "metadata": {},
   "outputs": [],
   "source": []
  },
  {
   "cell_type": "code",
   "execution_count": null,
   "metadata": {},
   "outputs": [],
   "source": []
  },
  {
   "cell_type": "code",
   "execution_count": null,
   "metadata": {},
   "outputs": [],
   "source": []
  },
  {
   "cell_type": "code",
   "execution_count": null,
   "metadata": {},
   "outputs": [],
   "source": []
  }
 ],
 "metadata": {
  "kernelspec": {
   "display_name": "Python 3",
   "language": "python",
   "name": "python3"
  },
  "language_info": {
   "codemirror_mode": {
    "name": "ipython",
    "version": 3
   },
   "file_extension": ".py",
   "mimetype": "text/x-python",
   "name": "python",
   "nbconvert_exporter": "python",
   "pygments_lexer": "ipython3",
   "version": "3.12.4"
  }
 },
 "nbformat": 4,
 "nbformat_minor": 2
}
